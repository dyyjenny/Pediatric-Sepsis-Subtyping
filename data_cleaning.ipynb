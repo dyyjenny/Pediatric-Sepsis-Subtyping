{
 "cells": [
  {
   "cell_type": "code",
   "execution_count": 15,
   "metadata": {},
   "outputs": [],
   "source": [
    "import pandas as pd\n",
    "import numpy as np"
   ]
  },
  {
   "cell_type": "code",
   "execution_count": 250,
   "metadata": {},
   "outputs": [
    {
     "name": "stderr",
     "output_type": "stream",
     "text": [
      "<ipython-input-250-64f1363dbd35>:1: DtypeWarning: Columns (10) have mixed types. Specify dtype option on import or set low_memory=False.\n",
      "  vt = pd.read_csv('vitals_trajectory.csv')\n"
     ]
    }
   ],
   "source": [
    "vt = pd.read_csv('vitals_trajectory.csv')"
   ]
  },
  {
   "cell_type": "markdown",
   "metadata": {},
   "source": [
    "## Filter  & standardization\n",
    "MODS=1 on Day1, minute to hour and other cleaning"
   ]
  },
  {
   "cell_type": "code",
   "execution_count": 251,
   "metadata": {},
   "outputs": [],
   "source": [
    "# drop completely redundant rows and keep MODS=day1 patients\n",
    "all_sp = vt.drop('event_units',axis = 1).drop_duplicates()\n",
    "mods_day1 = all_sp[all_sp['mods_day1']==1].drop('mods_day1',axis = 1)"
   ]
  },
  {
   "cell_type": "code",
   "execution_count": 252,
   "metadata": {},
   "outputs": [
    {
     "data": {
      "text/html": [
       "<div>\n",
       "<style scoped>\n",
       "    .dataframe tbody tr th:only-of-type {\n",
       "        vertical-align: middle;\n",
       "    }\n",
       "\n",
       "    .dataframe tbody tr th {\n",
       "        vertical-align: top;\n",
       "    }\n",
       "\n",
       "    .dataframe thead th {\n",
       "        text-align: right;\n",
       "    }\n",
       "</style>\n",
       "<table border=\"1\" class=\"dataframe\">\n",
       "  <thead>\n",
       "    <tr style=\"text-align: right;\">\n",
       "      <th></th>\n",
       "      <th>EncID</th>\n",
       "      <th>hospital_id</th>\n",
       "      <th>age_group</th>\n",
       "      <th>mods_day7</th>\n",
       "      <th>died_in_hosp</th>\n",
       "      <th>died_time</th>\n",
       "      <th>event_name</th>\n",
       "      <th>event_time</th>\n",
       "      <th>event_value</th>\n",
       "      <th>event_hour</th>\n",
       "      <th>died_hour</th>\n",
       "    </tr>\n",
       "  </thead>\n",
       "  <tbody>\n",
       "    <tr>\n",
       "      <th>377547</th>\n",
       "      <td>10236 L2_P01</td>\n",
       "      <td>P01</td>\n",
       "      <td>1 mo</td>\n",
       "      <td>0</td>\n",
       "      <td>0</td>\n",
       "      <td>NaN</td>\n",
       "      <td>PULSE</td>\n",
       "      <td>4.0</td>\n",
       "      <td>169.0</td>\n",
       "      <td>0.066667</td>\n",
       "      <td>NaN</td>\n",
       "    </tr>\n",
       "    <tr>\n",
       "      <th>645780</th>\n",
       "      <td>10236 L2_P01</td>\n",
       "      <td>P01</td>\n",
       "      <td>1 mo</td>\n",
       "      <td>0</td>\n",
       "      <td>0</td>\n",
       "      <td>NaN</td>\n",
       "      <td>PULSE_OX</td>\n",
       "      <td>4.0</td>\n",
       "      <td>99.0</td>\n",
       "      <td>0.066667</td>\n",
       "      <td>NaN</td>\n",
       "    </tr>\n",
       "    <tr>\n",
       "      <th>771672</th>\n",
       "      <td>10236 L2_P01</td>\n",
       "      <td>P01</td>\n",
       "      <td>1 mo</td>\n",
       "      <td>0</td>\n",
       "      <td>0</td>\n",
       "      <td>NaN</td>\n",
       "      <td>RESP_RATE</td>\n",
       "      <td>4.0</td>\n",
       "      <td>47.0</td>\n",
       "      <td>0.066667</td>\n",
       "      <td>NaN</td>\n",
       "    </tr>\n",
       "    <tr>\n",
       "      <th>995554</th>\n",
       "      <td>10236 L2_P01</td>\n",
       "      <td>P01</td>\n",
       "      <td>1 mo</td>\n",
       "      <td>0</td>\n",
       "      <td>0</td>\n",
       "      <td>NaN</td>\n",
       "      <td>TEMP</td>\n",
       "      <td>4.0</td>\n",
       "      <td>36.5</td>\n",
       "      <td>0.066667</td>\n",
       "      <td>NaN</td>\n",
       "    </tr>\n",
       "    <tr>\n",
       "      <th>377548</th>\n",
       "      <td>10236 L2_P01</td>\n",
       "      <td>P01</td>\n",
       "      <td>1 mo</td>\n",
       "      <td>0</td>\n",
       "      <td>0</td>\n",
       "      <td>NaN</td>\n",
       "      <td>PULSE</td>\n",
       "      <td>9.0</td>\n",
       "      <td>168.0</td>\n",
       "      <td>0.150000</td>\n",
       "      <td>NaN</td>\n",
       "    </tr>\n",
       "    <tr>\n",
       "      <th>...</th>\n",
       "      <td>...</td>\n",
       "      <td>...</td>\n",
       "      <td>...</td>\n",
       "      <td>...</td>\n",
       "      <td>...</td>\n",
       "      <td>...</td>\n",
       "      <td>...</td>\n",
       "      <td>...</td>\n",
       "      <td>...</td>\n",
       "      <td>...</td>\n",
       "      <td>...</td>\n",
       "    </tr>\n",
       "    <tr>\n",
       "      <th>5163515</th>\n",
       "      <td>990_P13</td>\n",
       "      <td>P13</td>\n",
       "      <td>144 to 216 mo</td>\n",
       "      <td>0</td>\n",
       "      <td>0</td>\n",
       "      <td>NaN</td>\n",
       "      <td>MAP</td>\n",
       "      <td>1434.0</td>\n",
       "      <td>68.0</td>\n",
       "      <td>23.900000</td>\n",
       "      <td>NaN</td>\n",
       "    </tr>\n",
       "    <tr>\n",
       "      <th>5057237</th>\n",
       "      <td>990_P13</td>\n",
       "      <td>P13</td>\n",
       "      <td>144 to 216 mo</td>\n",
       "      <td>0</td>\n",
       "      <td>0</td>\n",
       "      <td>NaN</td>\n",
       "      <td>PULSE</td>\n",
       "      <td>1434.0</td>\n",
       "      <td>96.0</td>\n",
       "      <td>23.900000</td>\n",
       "      <td>NaN</td>\n",
       "    </tr>\n",
       "    <tr>\n",
       "      <th>5299321</th>\n",
       "      <td>990_P13</td>\n",
       "      <td>P13</td>\n",
       "      <td>144 to 216 mo</td>\n",
       "      <td>0</td>\n",
       "      <td>0</td>\n",
       "      <td>NaN</td>\n",
       "      <td>PULSE_OX</td>\n",
       "      <td>1434.0</td>\n",
       "      <td>100.0</td>\n",
       "      <td>23.900000</td>\n",
       "      <td>NaN</td>\n",
       "    </tr>\n",
       "    <tr>\n",
       "      <th>5524450</th>\n",
       "      <td>990_P13</td>\n",
       "      <td>P13</td>\n",
       "      <td>144 to 216 mo</td>\n",
       "      <td>0</td>\n",
       "      <td>0</td>\n",
       "      <td>NaN</td>\n",
       "      <td>RESP_RATE</td>\n",
       "      <td>1434.0</td>\n",
       "      <td>26.0</td>\n",
       "      <td>23.900000</td>\n",
       "      <td>NaN</td>\n",
       "    </tr>\n",
       "    <tr>\n",
       "      <th>5741038</th>\n",
       "      <td>990_P13</td>\n",
       "      <td>P13</td>\n",
       "      <td>144 to 216 mo</td>\n",
       "      <td>0</td>\n",
       "      <td>0</td>\n",
       "      <td>NaN</td>\n",
       "      <td>SBP</td>\n",
       "      <td>1434.0</td>\n",
       "      <td>97.0</td>\n",
       "      <td>23.900000</td>\n",
       "      <td>NaN</td>\n",
       "    </tr>\n",
       "  </tbody>\n",
       "</table>\n",
       "<p>3455399 rows × 11 columns</p>\n",
       "</div>"
      ],
      "text/plain": [
       "                EncID hospital_id       age_group  mods_day7  died_in_hosp  \\\n",
       "377547   10236 L2_P01         P01            1 mo          0             0   \n",
       "645780   10236 L2_P01         P01            1 mo          0             0   \n",
       "771672   10236 L2_P01         P01            1 mo          0             0   \n",
       "995554   10236 L2_P01         P01            1 mo          0             0   \n",
       "377548   10236 L2_P01         P01            1 mo          0             0   \n",
       "...               ...         ...             ...        ...           ...   \n",
       "5163515       990_P13         P13   144 to 216 mo          0             0   \n",
       "5057237       990_P13         P13   144 to 216 mo          0             0   \n",
       "5299321       990_P13         P13   144 to 216 mo          0             0   \n",
       "5524450       990_P13         P13   144 to 216 mo          0             0   \n",
       "5741038       990_P13         P13   144 to 216 mo          0             0   \n",
       "\n",
       "         died_time event_name  event_time  event_value  event_hour  died_hour  \n",
       "377547         NaN      PULSE         4.0        169.0    0.066667        NaN  \n",
       "645780         NaN   PULSE_OX         4.0         99.0    0.066667        NaN  \n",
       "771672         NaN  RESP_RATE         4.0         47.0    0.066667        NaN  \n",
       "995554         NaN       TEMP         4.0         36.5    0.066667        NaN  \n",
       "377548         NaN      PULSE         9.0        168.0    0.150000        NaN  \n",
       "...            ...        ...         ...          ...         ...        ...  \n",
       "5163515        NaN        MAP      1434.0         68.0   23.900000        NaN  \n",
       "5057237        NaN      PULSE      1434.0         96.0   23.900000        NaN  \n",
       "5299321        NaN   PULSE_OX      1434.0        100.0   23.900000        NaN  \n",
       "5524450        NaN  RESP_RATE      1434.0         26.0   23.900000        NaN  \n",
       "5741038        NaN        SBP      1434.0         97.0   23.900000        NaN  \n",
       "\n",
       "[3455399 rows x 11 columns]"
      ]
     },
     "execution_count": 252,
     "metadata": {},
     "output_type": "execute_result"
    }
   ],
   "source": [
    "# convert time from min to hour, reorder dataframe and clean age_group notation\n",
    "mods_day1['event_hour'] = mods_day1['event_time'].div(60)\n",
    "mods_day1['died_hour'] = mods_day1['died_time'].div(60*24)\n",
    "mods_day1 = mods_day1.sort_values(by=['hospital_id','age_group','EncID','event_time','event_name'])\n",
    "mods_day1['age_group'] = [i.split('.')[1] for i in mods_day1['age_group'].tolist()]\n",
    "mods_day1"
   ]
  },
  {
   "cell_type": "markdown",
   "metadata": {},
   "source": [
    "## Population characteristics"
   ]
  },
  {
   "cell_type": "code",
   "execution_count": 237,
   "metadata": {},
   "outputs": [
    {
     "name": "stdout",
     "output_type": "stream",
     "text": [
      "12845 38398\n"
     ]
    }
   ],
   "source": [
    "# number of MODS=1 on day 1 versus all patients\n",
    "print(mods_day1['EncID'].nunique(), all_sp['EncID'].nunique())"
   ]
  },
  {
   "cell_type": "code",
   "execution_count": 238,
   "metadata": {},
   "outputs": [
    {
     "name": "stdout",
     "output_type": "stream",
     "text": [
      "0    0.710315\n",
      "1    0.289685\n",
      "Name: mods_day7, dtype: float64\n",
      "0    0.883119\n",
      "1    0.116881\n",
      "Name: mods_day7, dtype: float64\n"
     ]
    }
   ],
   "source": [
    "# mods day 7 difference between mods on day1 and all patients\n",
    "print(mods_day1.groupby('EncID').first()['mods_day7'].value_counts(normalize=True), all_sp.groupby('EncID').first()['mods_day7'].value_counts(normalize=True), sep='\\n')"
   ]
  },
  {
   "cell_type": "code",
   "execution_count": 239,
   "metadata": {},
   "outputs": [
    {
     "name": "stdout",
     "output_type": "stream",
     "text": [
      "0    0.892254\n",
      "1    0.107746\n",
      "Name: died_in_hosp, dtype: float64\n",
      "0    0.953018\n",
      "1    0.046982\n",
      "Name: died_in_hosp, dtype: float64\n"
     ]
    }
   ],
   "source": [
    "# death in hospital difference\n",
    "print(mods_day1.groupby('EncID').first()['died_in_hosp'].value_counts(normalize=True), all_sp.groupby('EncID').first()['died_in_hosp'].value_counts(normalize=True), sep='\\n')"
   ]
  },
  {
   "cell_type": "code",
   "execution_count": 240,
   "metadata": {},
   "outputs": [
    {
     "name": "stdout",
     "output_type": "stream",
     "text": [
      "0    11461\n",
      "1     1384\n",
      "Name: died_in_hosp, dtype: int64\n",
      "0    36594\n",
      "1     1804\n",
      "Name: died_in_hosp, dtype: int64\n"
     ]
    }
   ],
   "source": [
    "# death in hospital count difference\n",
    "print(mods_day1.groupby('EncID').first()['died_in_hosp'].value_counts(), all_sp.groupby('EncID').first()['died_in_hosp'].value_counts(), sep='\\n')"
   ]
  },
  {
   "cell_type": "code",
   "execution_count": 241,
   "metadata": {},
   "outputs": [
    {
     "data": {
      "text/plain": [
       " 60 to 143 mo     0.254885\n",
       " 144 to 216 mo    0.242507\n",
       " 2 to 11 mo       0.175710\n",
       " 24 to 59 mo      0.170027\n",
       " 12 to 24 mo      0.116388\n",
       " 1 mo             0.040483\n",
       "Name: age_group, dtype: float64"
      ]
     },
     "execution_count": 241,
     "metadata": {},
     "output_type": "execute_result"
    }
   ],
   "source": [
    "# proportion in each group for mods day1\n",
    "mods_day1.groupby('EncID').first()['age_group'].value_counts(normalize=True)"
   ]
  },
  {
   "cell_type": "markdown",
   "metadata": {},
   "source": [
    "## Clean death time\n",
    "replace negative values with last vital time"
   ]
  },
  {
   "cell_type": "code",
   "execution_count": 255,
   "metadata": {},
   "outputs": [],
   "source": [
    "# replace negative death times with time of last vital\n",
    "tmp = mods_day1.groupby('EncID').last()\n",
    "last_event_time = tmp[tmp['died_time']<0][['event_time','event_hour']]\n",
    "neg_death_id = last_event_time.index.tolist()\n",
    "neg_death_time = last_event_time['event_time'].tolist()\n",
    "neg_death_hr = last_event_time['event_hour'].tolist()\n",
    "for idx,val in enumerate(neg_death):\n",
    "    #print(mods_day1.loc[mods_day1.index ==val, 'died_time'])\n",
    "    mods_day1.loc[mods_day1['EncID'] ==val, 'died_time'] = neg_death_time[idx]\n",
    "    mods_day1.loc[mods_day1['EncID'] ==val, 'died_hour'] = neg_death_hr[idx]"
   ]
  },
  {
   "cell_type": "code",
   "execution_count": 243,
   "metadata": {},
   "outputs": [
    {
     "data": {
      "text/plain": [
       "count    1520.000000\n",
       "mean       65.801754\n",
       "std       197.342752\n",
       "min         0.000000\n",
       "25%         2.000000\n",
       "50%         6.635417\n",
       "75%        31.105556\n",
       "max      1888.763889\n",
       "Name: died_hour, dtype: float64"
      ]
     },
     "execution_count": 243,
     "metadata": {},
     "output_type": "execute_result"
    }
   ],
   "source": [
    "mods_day1.groupby('EncID').first()['died_hour'].describe()"
   ]
  },
  {
   "cell_type": "code",
   "execution_count": 256,
   "metadata": {},
   "outputs": [],
   "source": [
    "mods_day1 = mods_day1.drop(['event_time','died_time'],axis = 1)"
   ]
  },
  {
   "cell_type": "markdown",
   "metadata": {},
   "source": [
    "## Select first 12hr of vitals"
   ]
  },
  {
   "cell_type": "code",
   "execution_count": 257,
   "metadata": {},
   "outputs": [],
   "source": [
    "#mods_day1.to_csv('mods_day1.csv',index=False)\n",
    "mods_day1_12hr = mods_day1[mods_day1['event_hour']<13]\n",
    "#mods_day1_12hr.to_csv('mods_day1_12hr.csv',index=False)"
   ]
  },
  {
   "cell_type": "code",
   "execution_count": 258,
   "metadata": {},
   "outputs": [
    {
     "data": {
      "text/plain": [
       "PULSE        346133\n",
       "PULSE_OX     341325\n",
       "MAP          340268\n",
       "SBP          328342\n",
       "RESP_RATE    314790\n",
       "FIO2         168956\n",
       "TEMP         134148\n",
       "SF_RATIO     103497\n",
       "Name: event_name, dtype: int64"
      ]
     },
     "execution_count": 258,
     "metadata": {},
     "output_type": "execute_result"
    }
   ],
   "source": [
    "# available vitals in first 12 hours\n",
    "mods_day1_12hr['event_name'].value_counts()"
   ]
  },
  {
   "cell_type": "markdown",
   "metadata": {},
   "source": [
    "## Re-calculate SF Ratio\n",
    "Hourly SF ratio = hourly average of pulse_ox / hourly average of fio2"
   ]
  },
  {
   "cell_type": "code",
   "execution_count": 294,
   "metadata": {},
   "outputs": [],
   "source": [
    "# re-derive sf_ratio\n",
    "sf_ratio = mods_day1_12hr[mods_day1_12hr['event_name'].isin(['PULSE_OX','FIO2','SF_RATIO'])][['EncID','event_name','event_hour','event_value']]\n",
    "sf_ratio['event_hr_floor'] = np.floor(sf_ratio['event_hour'])\n",
    "pulse_ox = sf_ratio[sf_ratio['event_name'] == 'PULSE_OX']\n",
    "fio2 = sf_ratio[sf_ratio['event_name'] == 'FIO2']\n",
    "pulse_ox_ave = pd.DataFrame(pulse_ox.groupby(['EncID','event_hr_floor'])['event_value'].mean())\n",
    "fio2_ave = pd.DataFrame(fio2.groupby(['EncID','event_hr_floor'])['event_value'].mean())"
   ]
  },
  {
   "cell_type": "code",
   "execution_count": null,
   "metadata": {},
   "outputs": [],
   "source": [
    "# rederive sf_ratio\n",
    "calc_sfratio = []\n",
    "for i in pulse_ox_ave.index:\n",
    "    encid = i[0]\n",
    "    hr_floor = i[1]\n",
    "    if (fio2_ave.index == i).any():\n",
    "        fio2_row = fio2_ave.iloc[(fio2_ave.index.get_level_values('EncID') == encid) & (fio2_ave.index.get_level_values('event_hr_floor') == hr_floor)]\n",
    "        fio2 = fio2_row['event_value'].tolist()[0]\n",
    "        pulseox = pulse_ox_ave.loc[[i]]['event_value'].tolist()[0]\n",
    "        calc = [encid, hr_floor, pulseox/fio2]\n",
    "        calc_sfratio.append(calc)\n",
    "        #print(calc)"
   ]
  },
  {
   "cell_type": "code",
   "execution_count": 376,
   "metadata": {},
   "outputs": [
    {
     "name": "stdout",
     "output_type": "stream",
     "text": [
      "59369 96044\n"
     ]
    }
   ],
   "source": [
    "# compare size of old sf_ratio and newly derived\n",
    "# old sf ratio\n",
    "sf_ratio_only = sf_ratio[sf_ratio['event_name'] == 'SF_RATIO']\n",
    "sf_ratio_old_ave = pd.DataFrame(sf_ratio_only.groupby(['EncID','event_hr_floor'])['event_value'].mean())\n",
    "print(sf_ratio_old_ave.shape[0], len(calc_sfratio))"
   ]
  },
  {
   "cell_type": "code",
   "execution_count": 374,
   "metadata": {},
   "outputs": [],
   "source": [
    "# format newly derived sf_ratio to df\n",
    "new_sfratio_df = pd.DataFrame(calc_sfratio)\n",
    "new_sfratio_df.columns = ['EncID','event_hour','event_value']\n",
    "new_sfratio_df['event_name'] = 'SF_RATIO'"
   ]
  },
  {
   "cell_type": "code",
   "execution_count": 375,
   "metadata": {},
   "outputs": [
    {
     "data": {
      "text/html": [
       "<div>\n",
       "<style scoped>\n",
       "    .dataframe tbody tr th:only-of-type {\n",
       "        vertical-align: middle;\n",
       "    }\n",
       "\n",
       "    .dataframe tbody tr th {\n",
       "        vertical-align: top;\n",
       "    }\n",
       "\n",
       "    .dataframe thead th {\n",
       "        text-align: right;\n",
       "    }\n",
       "</style>\n",
       "<table border=\"1\" class=\"dataframe\">\n",
       "  <thead>\n",
       "    <tr style=\"text-align: right;\">\n",
       "      <th></th>\n",
       "      <th>EncID</th>\n",
       "      <th>event_hour</th>\n",
       "      <th>event_value</th>\n",
       "      <th>event_name</th>\n",
       "    </tr>\n",
       "  </thead>\n",
       "  <tbody>\n",
       "    <tr>\n",
       "      <th>0</th>\n",
       "      <td>1000044335_P05</td>\n",
       "      <td>0.0</td>\n",
       "      <td>191.0</td>\n",
       "      <td>SF_RATIO</td>\n",
       "    </tr>\n",
       "    <tr>\n",
       "      <th>1</th>\n",
       "      <td>1000044335_P05</td>\n",
       "      <td>2.0</td>\n",
       "      <td>184.0</td>\n",
       "      <td>SF_RATIO</td>\n",
       "    </tr>\n",
       "    <tr>\n",
       "      <th>2</th>\n",
       "      <td>1000044335_P05</td>\n",
       "      <td>3.0</td>\n",
       "      <td>194.0</td>\n",
       "      <td>SF_RATIO</td>\n",
       "    </tr>\n",
       "    <tr>\n",
       "      <th>3</th>\n",
       "      <td>1000044335_P05</td>\n",
       "      <td>5.0</td>\n",
       "      <td>200.0</td>\n",
       "      <td>SF_RATIO</td>\n",
       "    </tr>\n",
       "    <tr>\n",
       "      <th>4</th>\n",
       "      <td>1000044335_P05</td>\n",
       "      <td>6.0</td>\n",
       "      <td>200.0</td>\n",
       "      <td>SF_RATIO</td>\n",
       "    </tr>\n",
       "    <tr>\n",
       "      <th>...</th>\n",
       "      <td>...</td>\n",
       "      <td>...</td>\n",
       "      <td>...</td>\n",
       "      <td>...</td>\n",
       "    </tr>\n",
       "    <tr>\n",
       "      <th>96039</th>\n",
       "      <td>999_P10</td>\n",
       "      <td>8.0</td>\n",
       "      <td>400.0</td>\n",
       "      <td>SF_RATIO</td>\n",
       "    </tr>\n",
       "    <tr>\n",
       "      <th>96040</th>\n",
       "      <td>999_P10</td>\n",
       "      <td>9.0</td>\n",
       "      <td>396.0</td>\n",
       "      <td>SF_RATIO</td>\n",
       "    </tr>\n",
       "    <tr>\n",
       "      <th>96041</th>\n",
       "      <td>999_P10</td>\n",
       "      <td>10.0</td>\n",
       "      <td>396.0</td>\n",
       "      <td>SF_RATIO</td>\n",
       "    </tr>\n",
       "    <tr>\n",
       "      <th>96042</th>\n",
       "      <td>999_P10</td>\n",
       "      <td>11.0</td>\n",
       "      <td>400.0</td>\n",
       "      <td>SF_RATIO</td>\n",
       "    </tr>\n",
       "    <tr>\n",
       "      <th>96043</th>\n",
       "      <td>999_P10</td>\n",
       "      <td>12.0</td>\n",
       "      <td>400.0</td>\n",
       "      <td>SF_RATIO</td>\n",
       "    </tr>\n",
       "  </tbody>\n",
       "</table>\n",
       "<p>96044 rows × 4 columns</p>\n",
       "</div>"
      ],
      "text/plain": [
       "                EncID  event_hour  event_value event_name\n",
       "0      1000044335_P05         0.0        191.0   SF_RATIO\n",
       "1      1000044335_P05         2.0        184.0   SF_RATIO\n",
       "2      1000044335_P05         3.0        194.0   SF_RATIO\n",
       "3      1000044335_P05         5.0        200.0   SF_RATIO\n",
       "4      1000044335_P05         6.0        200.0   SF_RATIO\n",
       "...               ...         ...          ...        ...\n",
       "96039         999_P10         8.0        400.0   SF_RATIO\n",
       "96040         999_P10         9.0        396.0   SF_RATIO\n",
       "96041         999_P10        10.0        396.0   SF_RATIO\n",
       "96042         999_P10        11.0        400.0   SF_RATIO\n",
       "96043         999_P10        12.0        400.0   SF_RATIO\n",
       "\n",
       "[96044 rows x 4 columns]"
      ]
     },
     "execution_count": 375,
     "metadata": {},
     "output_type": "execute_result"
    }
   ],
   "source": [
    "new_sfratio_df"
   ]
  },
  {
   "cell_type": "markdown",
   "metadata": {},
   "source": [
    "## Clean metadata of patients\n",
    "remove duplicate death time"
   ]
  },
  {
   "cell_type": "code",
   "execution_count": 378,
   "metadata": {},
   "outputs": [],
   "source": [
    "# extract metadata for each patient\n",
    "meta = mods_day1_12hr[['EncID','hospital_id','age_group','mods_day7','died_in_hosp','died_hour']].drop_duplicates()"
   ]
  },
  {
   "cell_type": "code",
   "execution_count": 379,
   "metadata": {},
   "outputs": [
    {
     "name": "stderr",
     "output_type": "stream",
     "text": [
      "<ipython-input-379-ccc85edddd1c>:6: SettingWithCopyWarning: \n",
      "A value is trying to be set on a copy of a slice from a DataFrame.\n",
      "Try using .loc[row_indexer,col_indexer] = value instead\n",
      "\n",
      "See the caveats in the documentation: https://pandas.pydata.org/pandas-docs/stable/user_guide/indexing.html#returning-a-view-versus-a-copy\n",
      "  meta_dup['died_hour_round'] = round(meta_dup['died_hour'],2)\n"
     ]
    },
    {
     "data": {
      "text/plain": [
       "17111_P02    1\n",
       "12687_P02    1\n",
       "19992_P02    1\n",
       "24390_P02    1\n",
       "24510_P02    1\n",
       "            ..\n",
       "37113_P02    1\n",
       "40197_P02    1\n",
       "5309_P02     1\n",
       "8600_P02     1\n",
       "8583_P02     1\n",
       "Name: EncID, Length: 65, dtype: int64"
      ]
     },
     "execution_count": 379,
     "metadata": {},
     "output_type": "execute_result"
    }
   ],
   "source": [
    "# check id of patients with multiple meta data\n",
    "tmp = pd.DataFrame(meta['EncID'].value_counts())\n",
    "dup_meta = tmp[tmp['EncID']>1].index.tolist()\n",
    "meta_dup = meta[meta['EncID'].isin(dup_meta)]\n",
    "# round to nearest thousandth and remove duplicate due to small time difference\n",
    "meta_dup['died_hour_round'] = round(meta_dup['died_hour'],2)\n",
    "meta_dup = meta_dup.drop('died_hour',axis = 1)\n",
    "meta_dup = meta_dup.drop_duplicates()\n",
    "# no more dup\n",
    "meta_dup['EncID'].value_counts()"
   ]
  },
  {
   "cell_type": "code",
   "execution_count": 380,
   "metadata": {},
   "outputs": [],
   "source": [
    "meta['died_hour_round'] = round(meta['died_hour'], 2)\n",
    "meta = meta.drop('died_hour', axis = 1)\n",
    "meta = meta.drop_duplicates()"
   ]
  },
  {
   "cell_type": "code",
   "execution_count": 381,
   "metadata": {},
   "outputs": [
    {
     "data": {
      "text/html": [
       "<div>\n",
       "<style scoped>\n",
       "    .dataframe tbody tr th:only-of-type {\n",
       "        vertical-align: middle;\n",
       "    }\n",
       "\n",
       "    .dataframe tbody tr th {\n",
       "        vertical-align: top;\n",
       "    }\n",
       "\n",
       "    .dataframe thead th {\n",
       "        text-align: right;\n",
       "    }\n",
       "</style>\n",
       "<table border=\"1\" class=\"dataframe\">\n",
       "  <thead>\n",
       "    <tr style=\"text-align: right;\">\n",
       "      <th></th>\n",
       "      <th>EncID</th>\n",
       "      <th>hospital_id</th>\n",
       "      <th>age_group</th>\n",
       "      <th>mods_day7</th>\n",
       "      <th>died_in_hosp</th>\n",
       "      <th>died_hour_round</th>\n",
       "    </tr>\n",
       "  </thead>\n",
       "  <tbody>\n",
       "    <tr>\n",
       "      <th>377547</th>\n",
       "      <td>10236 L2_P01</td>\n",
       "      <td>P01</td>\n",
       "      <td>1 mo</td>\n",
       "      <td>0</td>\n",
       "      <td>0</td>\n",
       "      <td>NaN</td>\n",
       "    </tr>\n",
       "    <tr>\n",
       "      <th>547648</th>\n",
       "      <td>12801 L2_P01</td>\n",
       "      <td>P01</td>\n",
       "      <td>1 mo</td>\n",
       "      <td>0</td>\n",
       "      <td>0</td>\n",
       "      <td>NaN</td>\n",
       "    </tr>\n",
       "    <tr>\n",
       "      <th>552534</th>\n",
       "      <td>13654 L2_P01</td>\n",
       "      <td>P01</td>\n",
       "      <td>1 mo</td>\n",
       "      <td>0</td>\n",
       "      <td>0</td>\n",
       "      <td>NaN</td>\n",
       "    </tr>\n",
       "    <tr>\n",
       "      <th>552975</th>\n",
       "      <td>13681 L2_P01</td>\n",
       "      <td>P01</td>\n",
       "      <td>1 mo</td>\n",
       "      <td>1</td>\n",
       "      <td>1</td>\n",
       "      <td>4.0</td>\n",
       "    </tr>\n",
       "    <tr>\n",
       "      <th>465088</th>\n",
       "      <td>14435 L2_P01</td>\n",
       "      <td>P01</td>\n",
       "      <td>1 mo</td>\n",
       "      <td>1</td>\n",
       "      <td>1</td>\n",
       "      <td>1.0</td>\n",
       "    </tr>\n",
       "    <tr>\n",
       "      <th>...</th>\n",
       "      <td>...</td>\n",
       "      <td>...</td>\n",
       "      <td>...</td>\n",
       "      <td>...</td>\n",
       "      <td>...</td>\n",
       "      <td>...</td>\n",
       "    </tr>\n",
       "    <tr>\n",
       "      <th>5387151</th>\n",
       "      <td>964_P13</td>\n",
       "      <td>P13</td>\n",
       "      <td>144 to 216 mo</td>\n",
       "      <td>0</td>\n",
       "      <td>0</td>\n",
       "      <td>NaN</td>\n",
       "    </tr>\n",
       "    <tr>\n",
       "      <th>5162978</th>\n",
       "      <td>96_P13</td>\n",
       "      <td>P13</td>\n",
       "      <td>144 to 216 mo</td>\n",
       "      <td>0</td>\n",
       "      <td>0</td>\n",
       "      <td>NaN</td>\n",
       "    </tr>\n",
       "    <tr>\n",
       "      <th>5399799</th>\n",
       "      <td>97_P13</td>\n",
       "      <td>P13</td>\n",
       "      <td>144 to 216 mo</td>\n",
       "      <td>0</td>\n",
       "      <td>0</td>\n",
       "      <td>NaN</td>\n",
       "    </tr>\n",
       "    <tr>\n",
       "      <th>5387387</th>\n",
       "      <td>984_P13</td>\n",
       "      <td>P13</td>\n",
       "      <td>144 to 216 mo</td>\n",
       "      <td>0</td>\n",
       "      <td>0</td>\n",
       "      <td>NaN</td>\n",
       "    </tr>\n",
       "    <tr>\n",
       "      <th>5387466</th>\n",
       "      <td>990_P13</td>\n",
       "      <td>P13</td>\n",
       "      <td>144 to 216 mo</td>\n",
       "      <td>0</td>\n",
       "      <td>0</td>\n",
       "      <td>NaN</td>\n",
       "    </tr>\n",
       "  </tbody>\n",
       "</table>\n",
       "<p>12842 rows × 6 columns</p>\n",
       "</div>"
      ],
      "text/plain": [
       "                EncID hospital_id       age_group  mods_day7  died_in_hosp  \\\n",
       "377547   10236 L2_P01         P01            1 mo          0             0   \n",
       "547648   12801 L2_P01         P01            1 mo          0             0   \n",
       "552534   13654 L2_P01         P01            1 mo          0             0   \n",
       "552975   13681 L2_P01         P01            1 mo          1             1   \n",
       "465088   14435 L2_P01         P01            1 mo          1             1   \n",
       "...               ...         ...             ...        ...           ...   \n",
       "5387151       964_P13         P13   144 to 216 mo          0             0   \n",
       "5162978        96_P13         P13   144 to 216 mo          0             0   \n",
       "5399799        97_P13         P13   144 to 216 mo          0             0   \n",
       "5387387       984_P13         P13   144 to 216 mo          0             0   \n",
       "5387466       990_P13         P13   144 to 216 mo          0             0   \n",
       "\n",
       "         died_hour_round  \n",
       "377547               NaN  \n",
       "547648               NaN  \n",
       "552534               NaN  \n",
       "552975               4.0  \n",
       "465088               1.0  \n",
       "...                  ...  \n",
       "5387151              NaN  \n",
       "5162978              NaN  \n",
       "5399799              NaN  \n",
       "5387387              NaN  \n",
       "5387466              NaN  \n",
       "\n",
       "[12842 rows x 6 columns]"
      ]
     },
     "execution_count": 381,
     "metadata": {},
     "output_type": "execute_result"
    }
   ],
   "source": [
    "meta"
   ]
  },
  {
   "cell_type": "markdown",
   "metadata": {},
   "source": [
    "## Calculate hourly average for all vitals\n",
    "replace vitals that have multiple measurements in an hour with hourly average"
   ]
  },
  {
   "cell_type": "code",
   "execution_count": 421,
   "metadata": {},
   "outputs": [
    {
     "name": "stderr",
     "output_type": "stream",
     "text": [
      "<ipython-input-421-0bc9261d334b>:3: SettingWithCopyWarning: \n",
      "A value is trying to be set on a copy of a slice from a DataFrame.\n",
      "Try using .loc[row_indexer,col_indexer] = value instead\n",
      "\n",
      "See the caveats in the documentation: https://pandas.pydata.org/pandas-docs/stable/user_guide/indexing.html#returning-a-view-versus-a-copy\n",
      "  vitals['event_hr_floor'] = np.floor(vitals['event_hour'])\n"
     ]
    }
   ],
   "source": [
    "# extract vitals only dataframe\n",
    "vitals = mods_day1_12hr[['EncID','event_name','event_hour','event_value']]\n",
    "vitals['event_hr_floor'] = np.floor(vitals['event_hour'])  \n",
    "             \n",
    "# helper for calculating hourly average\n",
    "def hr_ave(vit):\n",
    "    df = vitals[vitals['event_name'] == vit]\n",
    "    df = pd.DataFrame(df.groupby(['EncID','event_hr_floor'])['event_value'].mean())\n",
    "    df['EncID'] = [i[0] for i in df.index.tolist()]\n",
    "    df['event_hour'] = [i[1] for i in df.index.tolist()]\n",
    "    df = df.reset_index(drop=True)\n",
    "    df = df[['EncID', 'event_hour','event_value']]\n",
    "    df['event_name'] = vit\n",
    "    return df"
   ]
  },
  {
   "cell_type": "code",
   "execution_count": 454,
   "metadata": {},
   "outputs": [],
   "source": [
    "# calculate hourly mean for all vitals PULSE, MAP, SBP, RESP_RATE, TEMP\n",
    "pulse_ave = hr_ave('PULSE')\n",
    "map_ave = hr_ave('MAP')\n",
    "sbp_ave = hr_ave('SBP')\n",
    "resp_ave = hr_ave('RESP_RATE')\n",
    "temp_ave = hr_ave('TEMP')\n",
    "fio2_ave = hr_ave('FIO2')\n",
    "pulseox_ave = hr_ave('PULSE_OX')"
   ]
  },
  {
   "cell_type": "code",
   "execution_count": 455,
   "metadata": {},
   "outputs": [
    {
     "name": "stdout",
     "output_type": "stream",
     "text": [
      "(154256, 4) (141212, 4) (141921, 4) (150122, 4) (94331, 4) (97637, 4) (153359, 4)\n"
     ]
    }
   ],
   "source": [
    "print(pulse_ave.shape, map_ave.shape, sbp_ave.shape, resp_ave.shape, temp_ave.shape,fio2_ave.shape,pulseox_ave.shape)"
   ]
  },
  {
   "cell_type": "markdown",
   "metadata": {},
   "source": [
    "## Merge new vitals with metadata"
   ]
  },
  {
   "cell_type": "code",
   "execution_count": 456,
   "metadata": {},
   "outputs": [],
   "source": [
    "# concatenation of vitals\n",
    "tmp = pd.concat([pulse_ave, map_ave], axis=0)\n",
    "tmp = pd.concat([tmp, sbp_ave], axis=0)\n",
    "tmp = pd.concat([tmp, resp_ave], axis=0)\n",
    "tmp = pd.concat([tmp, temp_ave], axis=0)\n",
    "tmp = pd.concat([tmp, fio2_ave], axis=0)\n",
    "tmp = pd.concat([tmp, pulseox_ave], axis=0)\n",
    "vital_hrave = pd.concat([tmp, new_sfratio_df], axis=0)"
   ]
  },
  {
   "cell_type": "code",
   "execution_count": 460,
   "metadata": {},
   "outputs": [],
   "source": [
    "# merge with meta data\n",
    "new_df = vital_hrave.merge(meta, on='EncID', how='left')\n",
    "new_df = new_df.sort_values(by=['hospital_id','age_group','EncID','event_hour','event_name'])"
   ]
  },
  {
   "cell_type": "code",
   "execution_count": 461,
   "metadata": {},
   "outputs": [],
   "source": [
    "new_df.to_csv('vitals_trajectory_cleaned.csv',index=False)"
   ]
  },
  {
   "cell_type": "markdown",
   "metadata": {},
   "source": [
    "## Explore reasons of missing data "
   ]
  },
  {
   "cell_type": "code",
   "execution_count": 459,
   "metadata": {},
   "outputs": [
    {
     "data": {
      "text/plain": [
       "6938"
      ]
     },
     "execution_count": 459,
     "metadata": {},
     "output_type": "execute_result"
    }
   ],
   "source": [
    "new_df[(new_df['event_name']=='TEMP') & (new_df['event_hour']==2)]['EncID'].nunique()"
   ]
  },
  {
   "cell_type": "code",
   "execution_count": 452,
   "metadata": {},
   "outputs": [
    {
     "data": {
      "text/plain": [
       "P04    1772\n",
       "P13    1689\n",
       "P05    1471\n",
       "P12    1254\n",
       "P07    1121\n",
       "P11    1041\n",
       "P01     962\n",
       "P02     779\n",
       "P10     770\n",
       "P03     690\n",
       "P06     655\n",
       "P09     486\n",
       "P08     151\n",
       "Name: hospital_id, dtype: int64"
      ]
     },
     "execution_count": 452,
     "metadata": {},
     "output_type": "execute_result"
    }
   ],
   "source": [
    "new_df[['EncID','hospital_id']].drop_duplicates()['hospital_id'].value_counts()"
   ]
  },
  {
   "cell_type": "code",
   "execution_count": 447,
   "metadata": {},
   "outputs": [
    {
     "data": {
      "text/plain": [
       "P04    1121\n",
       "P05     986\n",
       "P13     808\n",
       "P12     715\n",
       "P07     641\n",
       "P01     504\n",
       "P11     423\n",
       "P03     414\n",
       "P02     409\n",
       "P06     333\n",
       "P10     294\n",
       "P09     187\n",
       "P08     103\n",
       "Name: hospital_id, dtype: int64"
      ]
     },
     "execution_count": 447,
     "metadata": {},
     "output_type": "execute_result"
    }
   ],
   "source": [
    "# for temp at hour 2, only 6938 patients have data, but not due to hospital difference\n",
    "new_df[(new_df['event_name']=='TEMP') & (new_df['event_hour']==2)]['hospital_id'].value_counts()"
   ]
  },
  {
   "cell_type": "code",
   "execution_count": 448,
   "metadata": {},
   "outputs": [
    {
     "data": {
      "text/plain": [
       " 60 to 143 mo     1749\n",
       " 144 to 216 mo    1629\n",
       " 2 to 11 mo       1282\n",
       " 24 to 59 mo      1178\n",
       " 12 to 24 mo       788\n",
       " 1 mo              312\n",
       "Name: age_group, dtype: int64"
      ]
     },
     "execution_count": 448,
     "metadata": {},
     "output_type": "execute_result"
    }
   ],
   "source": [
    "# also not due to age\n",
    "new_df[(new_df['event_name']=='TEMP') & (new_df['event_hour']==2)]['age_group'].value_counts()"
   ]
  },
  {
   "cell_type": "code",
   "execution_count": null,
   "metadata": {},
   "outputs": [],
   "source": []
  }
 ],
 "metadata": {
  "kernelspec": {
   "display_name": "Python 3",
   "language": "python",
   "name": "python3"
  },
  "language_info": {
   "codemirror_mode": {
    "name": "ipython",
    "version": 3
   },
   "file_extension": ".py",
   "mimetype": "text/x-python",
   "name": "python",
   "nbconvert_exporter": "python",
   "pygments_lexer": "ipython3",
   "version": "3.8.2"
  }
 },
 "nbformat": 4,
 "nbformat_minor": 4
}
